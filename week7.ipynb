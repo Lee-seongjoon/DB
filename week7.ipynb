{
  "nbformat": 4,
  "nbformat_minor": 0,
  "metadata": {
    "colab": {
      "provenance": [],
      "authorship_tag": "ABX9TyPlStyEZsD+KnwArY2kySy1",
      "include_colab_link": true
    },
    "kernelspec": {
      "name": "python3",
      "display_name": "Python 3"
    },
    "language_info": {
      "name": "python"
    }
  },
  "cells": [
    {
      "cell_type": "markdown",
      "metadata": {
        "id": "view-in-github",
        "colab_type": "text"
      },
      "source": [
        "<a href=\"https://colab.research.google.com/github/Lee-seongjoon/DB/blob/main/week7.ipynb\" target=\"_parent\"><img src=\"https://colab.research.google.com/assets/colab-badge.svg\" alt=\"Open In Colab\"/></a>"
      ]
    },
    {
      "cell_type": "code",
      "execution_count": 8,
      "metadata": {
        "colab": {
          "base_uri": "https://localhost:8080/"
        },
        "id": "u_0XbzF8RKbO",
        "outputId": "5e9c3ec3-3554-43ea-bb74-ae16c176fec1"
      },
      "outputs": [
        {
          "output_type": "stream",
          "name": "stdout",
          "text": [
            "sqlite\n"
          ]
        }
      ],
      "source": [
        "from sqlalchemy import create_engine\n",
        "my_conn = create_engine(\"sqlite:////content/my_db.db/\")\n",
        "print(my_conn.name)"
      ]
    },
    {
      "cell_type": "code",
      "source": [
        "r_set = my_conn.execute('''select name from sqlite_master where type = 'table' ''')\n",
        "\n",
        "for row in r_set:\n",
        "  print(row)"
      ],
      "metadata": {
        "colab": {
          "base_uri": "https://localhost:8080/"
        },
        "id": "iytYai8zRiV2",
        "outputId": "51d93792-59dc-4bca-d141-615a511e9f4c"
      },
      "execution_count": 9,
      "outputs": [
        {
          "output_type": "stream",
          "name": "stdout",
          "text": [
            "('category',)\n",
            "('subcategory',)\n",
            "('student',)\n"
          ]
        }
      ]
    },
    {
      "cell_type": "code",
      "source": [
        "r_set = my_conn.execute(\"select * from student\")\n",
        "\n",
        "for row in r_set:\n",
        "  print(row)"
      ],
      "metadata": {
        "colab": {
          "base_uri": "https://localhost:8080/"
        },
        "id": "oqjlbu4RV2H-",
        "outputId": "b466ac40-f3fa-422e-9f89-4cf33751283e"
      },
      "execution_count": 10,
      "outputs": [
        {
          "output_type": "stream",
          "name": "stdout",
          "text": [
            "(1, 'John Deo', 'Four', 75, 'female')\n",
            "(2, 'Max Ruin', 'Three', 85, 'male')\n",
            "(3, 'Arnold', 'Three', 55, 'male')\n",
            "(4, 'Krish Star', 'Four', 60, 'female')\n",
            "(5, 'John Mike', 'Four', 60, 'female')\n",
            "(6, 'Alex John', 'Four', 55, 'male')\n",
            "(7, 'My John Rob', 'Five', 78, 'male')\n",
            "(8, 'Asruid', 'Five', 85, 'male')\n",
            "(9, 'Tes Qry', 'Six', 78, 'male')\n",
            "(10, 'Big John', 'Four', 55, 'female')\n",
            "(11, 'Ronald', 'Six', 89, 'female')\n",
            "(12, 'Recky', 'Six', 94, 'female')\n",
            "(13, 'Kty', 'Seven', 88, 'female')\n",
            "(14, 'Bigy', 'Seven', 88, 'female')\n",
            "(15, 'Tade Row', 'Four', 88, 'male')\n",
            "(16, 'Gimmy', 'Four', 88, 'male')\n",
            "(17, 'Tumyu', 'Six', 54, 'male')\n",
            "(18, 'Honny', 'Five', 75, 'male')\n",
            "(19, 'Tinny', 'Nine', 18, 'male')\n",
            "(20, 'Jackly', 'Nine', 65, 'female')\n",
            "(21, 'Babby John', 'Four', 69, 'female')\n",
            "(22, 'Reggid', 'Seven', 55, 'female')\n",
            "(23, 'Herod', 'Eight', 79, 'male')\n",
            "(24, 'Tiddy Now', 'Seven', 78, 'male')\n",
            "(25, 'Giff Tow', 'Seven', 88, 'male')\n",
            "(26, 'Crelea', 'Seven', 79, 'male')\n",
            "(27, 'Big Nose', 'Three', 81, 'female')\n",
            "(28, 'Rojj Base', 'Seven', 86, 'female')\n",
            "(29, 'Tess Played', 'Seven', 55, 'male')\n",
            "(30, 'Reppy Red', 'Six', 79, 'female')\n",
            "(31, 'Marry Toeey', 'Four', 88, 'male')\n",
            "(32, 'Binn Rott', 'Seven', 90, 'female')\n",
            "(33, 'Kenn Rein', 'Six', 96, 'female')\n",
            "(34, 'Gain Toe', 'Seven', 69, 'male')\n",
            "(35, 'Rows Noump', 'Six', 88, 'female')\n"
          ]
        }
      ]
    },
    {
      "cell_type": "code",
      "source": [
        "r_set = my_conn.execute('''select id, name, class, mark, sex from student where class = 'Four' ''')\n",
        "\n",
        "for row in r_set:\n",
        "  print(row)"
      ],
      "metadata": {
        "colab": {
          "base_uri": "https://localhost:8080/"
        },
        "id": "nOuE7flIWBST",
        "outputId": "eb5ec854-bec8-45bb-d3d3-b33674af6313"
      },
      "execution_count": 11,
      "outputs": [
        {
          "output_type": "stream",
          "name": "stdout",
          "text": [
            "(1, 'John Deo', 'Four', 75, 'female')\n",
            "(4, 'Krish Star', 'Four', 60, 'female')\n",
            "(5, 'John Mike', 'Four', 60, 'female')\n",
            "(6, 'Alex John', 'Four', 55, 'male')\n",
            "(10, 'Big John', 'Four', 55, 'female')\n",
            "(15, 'Tade Row', 'Four', 88, 'male')\n",
            "(16, 'Gimmy', 'Four', 88, 'male')\n",
            "(21, 'Babby John', 'Four', 69, 'female')\n",
            "(31, 'Marry Toeey', 'Four', 88, 'male')\n"
          ]
        }
      ]
    },
    {
      "cell_type": "code",
      "source": [
        "q = \"select id, name, class, mark, sex from student where id = 8\"\n",
        "my_cursor = my_conn.execute(q)\n",
        "data_row = my_cursor.fetchone()\n",
        "\n",
        "print(data_row[0], data_row[1], data_row[3])"
      ],
      "metadata": {
        "colab": {
          "base_uri": "https://localhost:8080/"
        },
        "id": "Bq9QPVt1WTEJ",
        "outputId": "7cc32129-d233-41f9-8387-2166f8e23ed6"
      },
      "execution_count": 12,
      "outputs": [
        {
          "output_type": "stream",
          "name": "stdout",
          "text": [
            "8 Asruid 85\n"
          ]
        }
      ]
    },
    {
      "cell_type": "code",
      "source": [
        "my_cursor = my_conn.execute(\"select id, name, class, mark, sex from student limit 0,10\")\n",
        "data_row = my_cursor.fetchall()\n",
        "\n",
        "print(type(data_row))\n",
        "print(\"No of records : {}\".format(len(data_row)))\n",
        "for row in data_row:\n",
        "  print(row)"
      ],
      "metadata": {
        "colab": {
          "base_uri": "https://localhost:8080/"
        },
        "id": "b-tK95xtXNlt",
        "outputId": "a725fb40-8e58-4555-8528-62f89711c495"
      },
      "execution_count": 13,
      "outputs": [
        {
          "output_type": "stream",
          "name": "stdout",
          "text": [
            "<class 'list'>\n",
            "No of records : 10\n",
            "(1, 'John Deo', 'Four', 75, 'female')\n",
            "(2, 'Max Ruin', 'Three', 85, 'male')\n",
            "(3, 'Arnold', 'Three', 55, 'male')\n",
            "(4, 'Krish Star', 'Four', 60, 'female')\n",
            "(5, 'John Mike', 'Four', 60, 'female')\n",
            "(6, 'Alex John', 'Four', 55, 'male')\n",
            "(7, 'My John Rob', 'Five', 78, 'male')\n",
            "(8, 'Asruid', 'Five', 85, 'male')\n",
            "(9, 'Tes Qry', 'Six', 78, 'male')\n",
            "(10, 'Big John', 'Four', 55, 'female')\n"
          ]
        },
        {
          "output_type": "stream",
          "name": "stderr",
          "text": [
            "ERROR:sqlalchemy.pool.impl.NullPool:Exception during reset or similar\n",
            "Traceback (most recent call last):\n",
            "  File \"/usr/local/lib/python3.7/dist-packages/sqlalchemy/pool/base.py\", line 753, in _finalize_fairy\n",
            "    fairy._reset(pool)\n",
            "  File \"/usr/local/lib/python3.7/dist-packages/sqlalchemy/pool/base.py\", line 1004, in _reset\n",
            "    pool._dialect.do_rollback(self)\n",
            "  File \"/usr/local/lib/python3.7/dist-packages/sqlalchemy/engine/default.py\", line 683, in do_rollback\n",
            "    dbapi_connection.rollback()\n",
            "sqlite3.ProgrammingError: SQLite objects created in a thread can only be used in that same thread. The object was created in thread id 139843119478656 and this is thread id 139842696947456.\n",
            "ERROR:sqlalchemy.pool.impl.NullPool:Exception closing connection <sqlite3.Connection object at 0x7f2fa930ef10>\n",
            "Traceback (most recent call last):\n",
            "  File \"/usr/local/lib/python3.7/dist-packages/sqlalchemy/pool/base.py\", line 753, in _finalize_fairy\n",
            "    fairy._reset(pool)\n",
            "  File \"/usr/local/lib/python3.7/dist-packages/sqlalchemy/pool/base.py\", line 1004, in _reset\n",
            "    pool._dialect.do_rollback(self)\n",
            "  File \"/usr/local/lib/python3.7/dist-packages/sqlalchemy/engine/default.py\", line 683, in do_rollback\n",
            "    dbapi_connection.rollback()\n",
            "sqlite3.ProgrammingError: SQLite objects created in a thread can only be used in that same thread. The object was created in thread id 139843119478656 and this is thread id 139842696947456.\n",
            "\n",
            "During handling of the above exception, another exception occurred:\n",
            "\n",
            "Traceback (most recent call last):\n",
            "  File \"/usr/local/lib/python3.7/dist-packages/sqlalchemy/pool/base.py\", line 255, in _close_connection\n",
            "    self._dialect.do_terminate(connection)\n",
            "  File \"/usr/local/lib/python3.7/dist-packages/sqlalchemy/engine/default.py\", line 689, in do_terminate\n",
            "    self.do_close(dbapi_connection)\n",
            "  File \"/usr/local/lib/python3.7/dist-packages/sqlalchemy/engine/default.py\", line 692, in do_close\n",
            "    dbapi_connection.close()\n",
            "sqlite3.ProgrammingError: SQLite objects created in a thread can only be used in that same thread. The object was created in thread id 139843119478656 and this is thread id 139842696947456.\n"
          ]
        }
      ]
    },
    {
      "cell_type": "code",
      "source": [
        "from sqlalchemy.exc import SQLAlchemyError\n",
        "\n",
        "try:\n",
        "  my_conn.execute(\"drop table student;\")\n",
        "  print(\"student table deleted\")\n",
        "except SQLAlchemyError as e:\n",
        "  print(e)"
      ],
      "metadata": {
        "colab": {
          "base_uri": "https://localhost:8080/"
        },
        "id": "QaiTnG7kXRX1",
        "outputId": "4a55b3e3-2fff-4a24-f645-54946dfb9547"
      },
      "execution_count": 14,
      "outputs": [
        {
          "output_type": "stream",
          "name": "stdout",
          "text": [
            "student table deleted\n"
          ]
        }
      ]
    },
    {
      "cell_type": "code",
      "source": [
        "try:\n",
        "    my_conn.execute('''\n",
        "        CREATE TABLE IF NOT EXISTS student(\n",
        "            id integer primary key,\n",
        "            name text,\n",
        "            class text,\n",
        "            mark integer,\n",
        "            sex text\n",
        "            );\n",
        "    ''')\n",
        "    print(\"student table created\")\n",
        "except SQLAlchemyError as e:\n",
        "    print(e)"
      ],
      "metadata": {
        "colab": {
          "base_uri": "https://localhost:8080/"
        },
        "id": "NWno9bg1ZANR",
        "outputId": "d50666ea-9e1b-48ff-9d5a-5371db8a5645"
      },
      "execution_count": 15,
      "outputs": [
        {
          "output_type": "stream",
          "name": "stdout",
          "text": [
            "student table created\n"
          ]
        }
      ]
    },
    {
      "cell_type": "code",
      "source": [
        "r_set = my_conn.execute('''INSERT INTO `student`\n",
        "(`id`, `name`, `class`, `mark`, `sex`) VALUES\n",
        "(1, 'John Deo', 'Four', 75, 'female'),\n",
        "(2, 'Max Ruin', 'Three', 85, 'male'),\n",
        "(3, 'Arnold', 'Three', 55, 'male'),\n",
        "(4, 'Krish Star', 'Four', 60, 'female'),\n",
        "(5, 'John Mike', 'Four', 60, 'female'),\n",
        "(6, 'Alex John', 'Four', 55, 'male'),\n",
        "(7, 'My John Rob', 'Five', 78, 'male'),\n",
        "(8, 'Asruid', 'Five', 85, 'male'),\n",
        "(9, 'Tes Qry', 'Six', 78, 'male'),\n",
        "(10, 'Big John', 'Four', 55, 'female'),\n",
        "(11, 'Ronald', 'Six', 89, 'female'),\n",
        "(12, 'Recky', 'Six', 94, 'female'),\n",
        "(13, 'Kty', 'Seven', 88, 'female'),\n",
        "(14, 'Bigy', 'Seven', 88, 'female'),\n",
        "(15, 'Tade Row', 'Four', 88, 'male'),\n",
        "(16, 'Gimmy', 'Four', 88, 'male'),\n",
        "(17, 'Tumyu', 'Six', 54, 'male'),\n",
        "(18, 'Honny', 'Five', 75, 'male'),\n",
        "(19, 'Tinny', 'Nine', 18, 'male'),\n",
        "(20, 'Jackly', 'Nine', 65, 'female'),\n",
        "(21, 'Babby John', 'Four', 69, 'female'),\n",
        "(22, 'Reggid', 'Seven', 55, 'female'),\n",
        "(23, 'Herod', 'Eight', 79, 'male'),\n",
        "(24, 'Tiddy Now', 'Seven', 78, 'male'),\n",
        "(25, 'Giff Tow', 'Seven', 88, 'male'),\n",
        "(26, 'Crelea', 'Seven', 79, 'male'),\n",
        "(27, 'Big Nose', 'Three', 81, 'female'),\n",
        "(28, 'Rojj Base', 'Seven', 86, 'female'),\n",
        "(29, 'Tess Played', 'Seven', 55, 'male'),\n",
        "(30, 'Reppy Red', 'Six', 79, 'female'),\n",
        "(31, 'Marry Toeey', 'Four', 88, 'male'),\n",
        "(32, 'Binn Rott', 'Seven', 90, 'female'),\n",
        "(33, 'Kenn Rein', 'Six', 96, 'female'),\n",
        "(34, 'Gain Toe', 'Seven', 69, 'male'),\n",
        "(35, 'Rows Noump', 'Six', 88, 'female');''')"
      ],
      "metadata": {
        "id": "i2eIh97KZHAX"
      },
      "execution_count": 16,
      "outputs": []
    },
    {
      "cell_type": "code",
      "source": [
        "from sqlalchemy import create_engine\n",
        "my_conn = create_engine(\"sqlite:////content/my_db2.db\")\n",
        "conn = my_conn.connect()\n",
        "\n",
        "!ls"
      ],
      "metadata": {
        "id": "C0fCAzxaZLKC",
        "colab": {
          "base_uri": "https://localhost:8080/"
        },
        "outputId": "ae2c9727-af17-4c91-8a2d-de6ac05fe523"
      },
      "execution_count": 19,
      "outputs": [
        {
          "output_type": "stream",
          "name": "stdout",
          "text": [
            "my_db2.db  my_db.db  sample_data\n"
          ]
        }
      ]
    },
    {
      "cell_type": "code",
      "source": [
        "from sqlalchemy.exc import SQLAlchemyError\n",
        "try:\n",
        "  my_conn.execute('''DROP table student;''')\n",
        "  print(\"student table deleted\")\n",
        "except SQLAlchemyError as e:\n",
        "  error = str(e._dict_['orig'])\n",
        "  print(error)\n",
        "  #print(e)"
      ],
      "metadata": {
        "colab": {
          "base_uri": "https://localhost:8080/"
        },
        "id": "7HNFqjqaiUlW",
        "outputId": "587eec58-c2a8-4303-9655-7d7814172666"
      },
      "execution_count": 24,
      "outputs": [
        {
          "output_type": "stream",
          "name": "stdout",
          "text": [
            "student table deleted\n"
          ]
        }
      ]
    },
    {
      "cell_type": "code",
      "source": [
        "from sqlalchemy import create_engine\n",
        "my_conn = create_engine(\"sqlite:////content/my_db.db/\")"
      ],
      "metadata": {
        "id": "LGt62URCliM_"
      },
      "execution_count": 21,
      "outputs": []
    },
    {
      "cell_type": "code",
      "source": [
        "r_set = my_conn.execute(''' select name from sqlite_master where type = 'table' ''')\n",
        "for row in r_set:\n",
        "  print(row)"
      ],
      "metadata": {
        "colab": {
          "base_uri": "https://localhost:8080/"
        },
        "id": "-ij5_jmslzkP",
        "outputId": "6e305b29-14ff-4698-8e90-5fdaaa07224c"
      },
      "execution_count": 25,
      "outputs": [
        {
          "output_type": "stream",
          "name": "stdout",
          "text": [
            "('category',)\n",
            "('subcategory',)\n"
          ]
        }
      ]
    },
    {
      "cell_type": "code",
      "source": [
        "with open(\"student_tables.sql\", \"r\") as file:\n",
        "  query = file.read()\n",
        "  my_conn.execute(query)"
      ],
      "metadata": {
        "id": "xGU_tvlgmNKI"
      },
      "execution_count": 27,
      "outputs": []
    },
    {
      "cell_type": "code",
      "source": [
        "r_set = my_conn.execute(\"SELECT name FROM sqlite_master where type='table';\")\n",
        "for row in r_set:\n",
        "  print(row)"
      ],
      "metadata": {
        "colab": {
          "base_uri": "https://localhost:8080/"
        },
        "id": "h6QS_JtVmg9n",
        "outputId": "4ba21472-7caa-45d2-d7f6-2ad01a0e55b9"
      },
      "execution_count": 30,
      "outputs": [
        {
          "output_type": "stream",
          "name": "stdout",
          "text": [
            "('category',)\n",
            "('subcategory',)\n",
            "('student',)\n"
          ]
        }
      ]
    },
    {
      "cell_type": "code",
      "source": [
        "with open(\"student_insert.sql\", \"r\") as file:\n",
        "  query = file.read()\n",
        "  my_conn.execute(query)"
      ],
      "metadata": {
        "id": "l_F3HsqumzN3"
      },
      "execution_count": 31,
      "outputs": []
    },
    {
      "cell_type": "code",
      "source": [
        "r_set = my_conn.execute('''select * from student''')\n",
        "for row in r_set:\n",
        "  print(row)"
      ],
      "metadata": {
        "colab": {
          "base_uri": "https://localhost:8080/"
        },
        "id": "gMRmlEhdnCu8",
        "outputId": "702f077b-e473-4b1e-862d-2a9cae5e234f"
      },
      "execution_count": 32,
      "outputs": [
        {
          "output_type": "stream",
          "name": "stdout",
          "text": [
            "(1, 'John Deo', 'Four', 75, 'female')\n",
            "(2, 'Max Ruin', 'Three', 85, 'male')\n",
            "(3, 'Arnold', 'Three', 55, 'male')\n",
            "(4, 'Krish Star', 'Four', 60, 'female')\n",
            "(5, 'John Mike', 'Four', 60, 'female')\n",
            "(6, 'Alex John', 'Four', 55, 'male')\n",
            "(7, 'My John Rob', 'Five', 78, 'male')\n",
            "(8, 'Asruid', 'Five', 85, 'male')\n",
            "(9, 'Tes Qry', 'Six', 78, 'male')\n",
            "(10, 'Big John', 'Four', 55, 'female')\n",
            "(11, 'Ronald', 'Six', 89, 'female')\n",
            "(27, 'Big Nose', 'Three', 81, 'female')\n",
            "(28, 'Rojj Base', 'Seven', 86, 'female')\n",
            "(29, 'Tess Played', 'Seven', 55, 'male')\n",
            "(30, 'Reppy Red', 'Six', 79, 'female')\n",
            "(31, 'Marry Toeey', 'Four', 88, 'male')\n",
            "(32, 'Binn Rott', 'Seven', 90, 'female')\n",
            "(33, 'Kenn Rein', 'Six', 96, 'female')\n",
            "(34, 'Gain Toe', 'Seven', 69, 'male')\n",
            "(35, 'Rows Noump', 'Six', 88, 'female')\n"
          ]
        }
      ]
    },
    {
      "cell_type": "code",
      "source": [
        "from sqlalchemy.exc import SQLAlchemyError\n",
        "q=\"UPDATE student SET mark=mark+1\"\n",
        "try:\n",
        "  r_set=my_conn.execute(q)\n",
        "except SQLAlchemyError as e:\n",
        "  error=str(e.__dict__['orig'])\n",
        "  print(error)\n",
        "else:\n",
        "  print(\"No of records updated : \", r_set.rowcount)"
      ],
      "metadata": {
        "colab": {
          "base_uri": "https://localhost:8080/"
        },
        "id": "ERMTnKAMnN5Q",
        "outputId": "55718e9b-736e-42b4-bdd9-7c49efa7e09c"
      },
      "execution_count": 33,
      "outputs": [
        {
          "output_type": "stream",
          "name": "stdout",
          "text": [
            "No of records updated :  20\n"
          ]
        }
      ]
    },
    {
      "cell_type": "code",
      "source": [
        "r_set=my_conn.execute('''select * from student''');\n",
        "for row in r_set:\n",
        "  print(row)"
      ],
      "metadata": {
        "colab": {
          "base_uri": "https://localhost:8080/"
        },
        "id": "FeByHLXdn1it",
        "outputId": "439b0fa2-ce95-4f10-9733-11d14630df29"
      },
      "execution_count": 34,
      "outputs": [
        {
          "output_type": "stream",
          "name": "stdout",
          "text": [
            "(1, 'John Deo', 'Four', 76, 'female')\n",
            "(2, 'Max Ruin', 'Three', 86, 'male')\n",
            "(3, 'Arnold', 'Three', 56, 'male')\n",
            "(4, 'Krish Star', 'Four', 61, 'female')\n",
            "(5, 'John Mike', 'Four', 61, 'female')\n",
            "(6, 'Alex John', 'Four', 56, 'male')\n",
            "(7, 'My John Rob', 'Five', 79, 'male')\n",
            "(8, 'Asruid', 'Five', 86, 'male')\n",
            "(9, 'Tes Qry', 'Six', 79, 'male')\n",
            "(10, 'Big John', 'Four', 56, 'female')\n",
            "(11, 'Ronald', 'Six', 90, 'female')\n",
            "(27, 'Big Nose', 'Three', 82, 'female')\n",
            "(28, 'Rojj Base', 'Seven', 87, 'female')\n",
            "(29, 'Tess Played', 'Seven', 56, 'male')\n",
            "(30, 'Reppy Red', 'Six', 80, 'female')\n",
            "(31, 'Marry Toeey', 'Four', 89, 'male')\n",
            "(32, 'Binn Rott', 'Seven', 91, 'female')\n",
            "(33, 'Kenn Rein', 'Six', 97, 'female')\n",
            "(34, 'Gain Toe', 'Seven', 70, 'male')\n",
            "(35, 'Rows Noump', 'Six', 89, 'female')\n"
          ]
        }
      ]
    },
    {
      "cell_type": "code",
      "source": [
        "from sqlalchemy.exc import SQLAlchemyError\n",
        "q=\"UPDATE student set mark=mark+1 where id=7\"\n",
        "try:\n",
        "  r_set=my_conn.execute(q)\n",
        "except SQLAlchemyError as e:\n",
        "  error=str(e.__dict__['orig'])\n",
        "  print(error)\n",
        "else:\n",
        "  print(\"No of records updated : \", r_set.rowcount)"
      ],
      "metadata": {
        "colab": {
          "base_uri": "https://localhost:8080/"
        },
        "id": "-BMGz86xoDYJ",
        "outputId": "4e8835c4-3401-4dbc-f811-5930d11a7d66"
      },
      "execution_count": 35,
      "outputs": [
        {
          "output_type": "stream",
          "name": "stdout",
          "text": [
            "No of records updated :  1\n"
          ]
        }
      ]
    },
    {
      "cell_type": "code",
      "source": [
        "r_set=my_conn.execute('''select * from student''');\n",
        "for row in r_set:\n",
        "  print(row)"
      ],
      "metadata": {
        "colab": {
          "base_uri": "https://localhost:8080/"
        },
        "outputId": "f7778fb7-9701-47ea-8147-e4da7db247f3",
        "id": "Ok3VubkOpBqt"
      },
      "execution_count": 36,
      "outputs": [
        {
          "output_type": "stream",
          "name": "stdout",
          "text": [
            "(1, 'John Deo', 'Four', 76, 'female')\n",
            "(2, 'Max Ruin', 'Three', 86, 'male')\n",
            "(3, 'Arnold', 'Three', 56, 'male')\n",
            "(4, 'Krish Star', 'Four', 61, 'female')\n",
            "(5, 'John Mike', 'Four', 61, 'female')\n",
            "(6, 'Alex John', 'Four', 56, 'male')\n",
            "(7, 'My John Rob', 'Five', 80, 'male')\n",
            "(8, 'Asruid', 'Five', 86, 'male')\n",
            "(9, 'Tes Qry', 'Six', 79, 'male')\n",
            "(10, 'Big John', 'Four', 56, 'female')\n",
            "(11, 'Ronald', 'Six', 90, 'female')\n",
            "(27, 'Big Nose', 'Three', 82, 'female')\n",
            "(28, 'Rojj Base', 'Seven', 87, 'female')\n",
            "(29, 'Tess Played', 'Seven', 56, 'male')\n",
            "(30, 'Reppy Red', 'Six', 80, 'female')\n",
            "(31, 'Marry Toeey', 'Four', 89, 'male')\n",
            "(32, 'Binn Rott', 'Seven', 91, 'female')\n",
            "(33, 'Kenn Rein', 'Six', 97, 'female')\n",
            "(34, 'Gain Toe', 'Seven', 70, 'male')\n",
            "(35, 'Rows Noump', 'Six', 89, 'female')\n"
          ]
        }
      ]
    },
    {
      "cell_type": "code",
      "source": [
        "from sqlalchemy.exc import SQLAlchemyError\n",
        "q=\"UPDATE student SET mark=mark+1 WHERE class='Four'\"\n",
        "try:\n",
        "  r_set=my_conn.execute(q)\n",
        "except SQLAlchemyError as e:\n",
        "  error=str(e.__dict__['orig'])\n",
        "  print(error)\n",
        "else:\n",
        "  print(\"No of records updated : \", r_set.rowcount)"
      ],
      "metadata": {
        "colab": {
          "base_uri": "https://localhost:8080/"
        },
        "id": "NwM6xkazpGhv",
        "outputId": "e549ef58-bc36-447a-e8f0-882a69101030"
      },
      "execution_count": 39,
      "outputs": [
        {
          "output_type": "stream",
          "name": "stdout",
          "text": [
            "No of records updated :  6\n"
          ]
        }
      ]
    },
    {
      "cell_type": "code",
      "source": [
        "r_set=my_conn.execute('''select * from student''');\n",
        "for row in r_set:\n",
        "  print(row)"
      ],
      "metadata": {
        "colab": {
          "base_uri": "https://localhost:8080/"
        },
        "outputId": "389ae0f5-43b5-4dda-f2e8-4b7510cbb814",
        "id": "oFlnNUhFp7Af"
      },
      "execution_count": 40,
      "outputs": [
        {
          "output_type": "stream",
          "name": "stdout",
          "text": [
            "(1, 'John Deo', 'Four', 77, 'female')\n",
            "(2, 'Max Ruin', 'Three', 86, 'male')\n",
            "(3, 'Arnold', 'Three', 56, 'male')\n",
            "(4, 'Krish Star', 'Four', 62, 'female')\n",
            "(5, 'John Mike', 'Four', 62, 'female')\n",
            "(6, 'Alex John', 'Four', 57, 'male')\n",
            "(7, 'My John Rob', 'Five', 80, 'male')\n",
            "(8, 'Asruid', 'Five', 86, 'male')\n",
            "(9, 'Tes Qry', 'Six', 79, 'male')\n",
            "(10, 'Big John', 'Four', 57, 'female')\n",
            "(11, 'Ronald', 'Six', 90, 'female')\n",
            "(27, 'Big Nose', 'Three', 82, 'female')\n",
            "(28, 'Rojj Base', 'Seven', 87, 'female')\n",
            "(29, 'Tess Played', 'Seven', 56, 'male')\n",
            "(30, 'Reppy Red', 'Six', 80, 'female')\n",
            "(31, 'Marry Toeey', 'Four', 90, 'male')\n",
            "(32, 'Binn Rott', 'Seven', 91, 'female')\n",
            "(33, 'Kenn Rein', 'Six', 97, 'female')\n",
            "(34, 'Gain Toe', 'Seven', 70, 'male')\n",
            "(35, 'Rows Noump', 'Six', 89, 'female')\n"
          ]
        }
      ]
    },
    {
      "cell_type": "code",
      "source": [
        "from sqlalchemy.exc import SQLAlchemyError\n",
        "q=\"UPDATE student SET class='Four' WHERE class ='Three'\"\n",
        "try:\n",
        "  r_set=my_conn.execute(q)\n",
        "except SQLAlchemyError as e:\n",
        "  error=str(e.__dict__['orig'])\n",
        "  print(error)\n",
        "else:\n",
        "  print(\"No of records updated : \", r_set.rowcount)"
      ],
      "metadata": {
        "colab": {
          "base_uri": "https://localhost:8080/"
        },
        "id": "glnIu1yGp482",
        "outputId": "96da4d10-c97f-48f0-a608-ec3787b5710a"
      },
      "execution_count": 42,
      "outputs": [
        {
          "output_type": "stream",
          "name": "stdout",
          "text": [
            "No of records updated :  3\n"
          ]
        }
      ]
    },
    {
      "cell_type": "code",
      "source": [
        "r_set=my_conn.execute('''select * from student''');\n",
        "for row in r_set:\n",
        "  print(row)"
      ],
      "metadata": {
        "colab": {
          "base_uri": "https://localhost:8080/"
        },
        "outputId": "2eb14891-b2ab-47a3-b5b2-8a9b41e0fb20",
        "id": "CorlSiexqkm8"
      },
      "execution_count": 43,
      "outputs": [
        {
          "output_type": "stream",
          "name": "stdout",
          "text": [
            "(1, 'John Deo', 'Four', 77, 'female')\n",
            "(2, 'Max Ruin', 'Four', 86, 'male')\n",
            "(3, 'Arnold', 'Four', 56, 'male')\n",
            "(4, 'Krish Star', 'Four', 62, 'female')\n",
            "(5, 'John Mike', 'Four', 62, 'female')\n",
            "(6, 'Alex John', 'Four', 57, 'male')\n",
            "(7, 'My John Rob', 'Five', 80, 'male')\n",
            "(8, 'Asruid', 'Five', 86, 'male')\n",
            "(9, 'Tes Qry', 'Six', 79, 'male')\n",
            "(10, 'Big John', 'Four', 57, 'female')\n",
            "(11, 'Ronald', 'Six', 90, 'female')\n",
            "(27, 'Big Nose', 'Four', 82, 'female')\n",
            "(28, 'Rojj Base', 'Seven', 87, 'female')\n",
            "(29, 'Tess Played', 'Seven', 56, 'male')\n",
            "(30, 'Reppy Red', 'Six', 80, 'female')\n",
            "(31, 'Marry Toeey', 'Four', 90, 'male')\n",
            "(32, 'Binn Rott', 'Seven', 91, 'female')\n",
            "(33, 'Kenn Rein', 'Six', 97, 'female')\n",
            "(34, 'Gain Toe', 'Seven', 70, 'male')\n",
            "(35, 'Rows Noump', 'Six', 89, 'female')\n"
          ]
        }
      ]
    },
    {
      "cell_type": "code",
      "source": [
        "from sqlalchemy.exc import SQLAlchemyError\n",
        "id=input(\"Enter student id : \")\n",
        "my_data=(id,)\n",
        "q=\"UPDATE student SET mark=mark+5 WHERE id=?\"\n",
        "try:\n",
        "  r_set=my_conn.execute(q,my_data)\n",
        "except SQLAlchemyError as e:\n",
        "  error=str(e.__dict__['orig'])\n",
        "  print(error)\n",
        "else:\n",
        "  print(\"No of records updated : \", r_set.rowcount)"
      ],
      "metadata": {
        "colab": {
          "base_uri": "https://localhost:8080/"
        },
        "id": "wwLYZgf_q3v3",
        "outputId": "cb6978d5-d3bd-43f8-e3ac-171fda9c0155"
      },
      "execution_count": 46,
      "outputs": [
        {
          "output_type": "stream",
          "name": "stdout",
          "text": [
            "Enter student id : 11\n",
            "No of records updated :  1\n"
          ]
        }
      ]
    },
    {
      "cell_type": "code",
      "source": [
        "from sqlalchemy.exc import SQLAlchemyError\n",
        "my_data=('Six', 'Seven')\n",
        "q=\"UPDATE student SET class=? WHERE class=?\"\n",
        "try:\n",
        "  r_set=my_conn.execute(q,my_data)\n",
        "except SQLAlchemyError as e:\n",
        "  error=str(e.__dict__['orig'])\n",
        "  print(error)\n",
        "else:\n",
        "  print(\"No of records updated : \", r_set.rowcount)"
      ],
      "metadata": {
        "colab": {
          "base_uri": "https://localhost:8080/"
        },
        "id": "HuG-tZn0sahA",
        "outputId": "4bff603c-f771-4882-b5cc-ff92c73144a3"
      },
      "execution_count": 47,
      "outputs": [
        {
          "output_type": "stream",
          "name": "stdout",
          "text": [
            "No of records updated :  4\n"
          ]
        }
      ]
    },
    {
      "cell_type": "code",
      "source": [
        "r_set=my_conn.execute('''select * from student''');\n",
        "for row in r_set:\n",
        "  print(row)"
      ],
      "metadata": {
        "colab": {
          "base_uri": "https://localhost:8080/"
        },
        "outputId": "21d56e04-c1e3-40f7-aa8a-f6f215b060bf",
        "id": "9pEM_r34s142"
      },
      "execution_count": 49,
      "outputs": [
        {
          "output_type": "stream",
          "name": "stdout",
          "text": [
            "(1, 'John Deo', 'Four', 77, 'female')\n",
            "(2, 'Max Ruin', 'Four', 86, 'male')\n",
            "(3, 'Arnold', 'Four', 56, 'male')\n",
            "(4, 'Krish Star', 'Four', 62, 'female')\n",
            "(5, 'John Mike', 'Four', 62, 'female')\n",
            "(6, 'Alex John', 'Four', 57, 'male')\n",
            "(7, 'My John Rob', 'Five', 80, 'male')\n",
            "(8, 'Asruid', 'Five', 86, 'male')\n",
            "(9, 'Tes Qry', 'Six', 79, 'male')\n",
            "(10, 'Big John', 'Four', 57, 'female')\n",
            "(11, 'Ronald', 'Six', 95, 'female')\n",
            "(27, 'Big Nose', 'Four', 82, 'female')\n",
            "(28, 'Rojj Base', 'Six', 87, 'female')\n",
            "(29, 'Tess Played', 'Six', 56, 'male')\n",
            "(30, 'Reppy Red', 'Six', 80, 'female')\n",
            "(31, 'Marry Toeey', 'Four', 90, 'male')\n",
            "(32, 'Binn Rott', 'Six', 91, 'female')\n",
            "(33, 'Kenn Rein', 'Six', 97, 'female')\n",
            "(34, 'Gain Toe', 'Six', 70, 'male')\n",
            "(35, 'Rows Noump', 'Six', 89, 'female')\n"
          ]
        }
      ]
    },
    {
      "cell_type": "code",
      "source": [
        "from sqlalchemy.exc import SQLAlchemyError\n",
        "q=\"SELECT DISTINCT(class) FROM  student\"\n",
        "try:\n",
        "  r_set=my_conn.execute(q)\n",
        "  data=r_set.fetchall()\n",
        "  for row in data:\n",
        "    print(row[0])\n",
        "except SQLAlchemyError as e:\n",
        "  error=str(e.__dict__['orig'])\n",
        "  print(error)\n",
        "else:\n",
        "  print(\"No of records displayed : \", len(data))"
      ],
      "metadata": {
        "colab": {
          "base_uri": "https://localhost:8080/"
        },
        "id": "Jx-JJGoStCFd",
        "outputId": "a0cd8a33-4f9d-4762-bc5c-39a7f52a88a5"
      },
      "execution_count": 51,
      "outputs": [
        {
          "output_type": "stream",
          "name": "stdout",
          "text": [
            "Four\n",
            "Five\n",
            "Six\n",
            "No of records displayed :  3\n"
          ]
        }
      ]
    },
    {
      "cell_type": "code",
      "source": [
        "from sqlalchemy.exc import SQLAlchemyError\n",
        "q=\"SELECT DISTINCT(class) FROM student WHERE mark>=80\"\n",
        "try:\n",
        "  r_set=my_conn.execute(q)\n",
        "  data=r_set.fetchall()\n",
        "  for row in data:\n",
        "    print(row[0])\n",
        "except SQLAlchemyError as e:\n",
        "  error=str(e.__dict__['orig'])\n",
        "  print(error)\n",
        "else:\n",
        "  print(\"No of records displayed : \", len(data))"
      ],
      "metadata": {
        "colab": {
          "base_uri": "https://localhost:8080/"
        },
        "id": "cghlahyht9Xr",
        "outputId": "7ba97147-eec8-4e03-d4b2-65069aaecd85"
      },
      "execution_count": 52,
      "outputs": [
        {
          "output_type": "stream",
          "name": "stdout",
          "text": [
            "Four\n",
            "Five\n",
            "Six\n",
            "No of records displayed :  3\n"
          ]
        }
      ]
    },
    {
      "cell_type": "code",
      "source": [
        "from sqlalchemy.exc import SQLAlchemyError\n",
        "q=\"SELECT DISTINCT(class) FROM student order by class\"\n",
        "try:\n",
        "  r_set=my_conn.execute(q)\n",
        "  data=r_set.fetchall()\n",
        "  for row in data:\n",
        "    print(row[0])\n",
        "except SQLAlchemyError as e:\n",
        "  error=str(e.__dict__['orig'])\n",
        "  print(error)\n",
        "else:\n",
        "  print(\"No of records displayed : \", len(data))"
      ],
      "metadata": {
        "colab": {
          "base_uri": "https://localhost:8080/"
        },
        "id": "EwN2Nu_5upL_",
        "outputId": "c870bed8-5aa3-44e4-d95a-96577d76e3d5"
      },
      "execution_count": 53,
      "outputs": [
        {
          "output_type": "stream",
          "name": "stdout",
          "text": [
            "Five\n",
            "Four\n",
            "Six\n",
            "No of records displayed :  3\n"
          ]
        }
      ]
    },
    {
      "cell_type": "code",
      "source": [
        "from sqlalchemy.exc import SQLAlchemyError\n",
        "q=\"SELECT DISTINCT class, sex FROM student order by class\"\n",
        "try:\n",
        "  r_set=my_conn.execute(q)\n",
        "  data=r_set.fetchall()\n",
        "  for row in data:\n",
        "    print(row[0], row[1])\n",
        "except SQLAlchemyError as e:\n",
        "  error=str(e.__dict__['orig'])\n",
        "  print(error)\n",
        "else:\n",
        "  print(\"No of records displayed : \",len(data))"
      ],
      "metadata": {
        "colab": {
          "base_uri": "https://localhost:8080/"
        },
        "id": "5B30pVZPvOuD",
        "outputId": "7bd51819-5228-4edf-c6d6-852b526933be"
      },
      "execution_count": 54,
      "outputs": [
        {
          "output_type": "stream",
          "name": "stdout",
          "text": [
            "Five male\n",
            "Four female\n",
            "Four male\n",
            "Six male\n",
            "Six female\n",
            "No of records displayed :  5\n"
          ]
        }
      ]
    },
    {
      "cell_type": "code",
      "source": [
        "from sqlalchemy.exc import SQLAlchemyError\n",
        "q=\"DELETE FROM student WHERE id=5\"\n",
        "try:\n",
        "  r_set=my_conn.execute(q)\n",
        "except SQLAlchemyError as e:\n",
        "  error=str(e.__dict__['orig'])\n",
        "  print(error)\n",
        "else:\n",
        "  print(\"No of records displayed : \", r_set.rowcount)"
      ],
      "metadata": {
        "colab": {
          "base_uri": "https://localhost:8080/"
        },
        "id": "bwPBuSVqvz5d",
        "outputId": "087dedc3-a64c-42e2-b1ac-3c29a48dbfab"
      },
      "execution_count": 55,
      "outputs": [
        {
          "output_type": "stream",
          "name": "stdout",
          "text": [
            "No of records displayed :  1\n"
          ]
        }
      ]
    },
    {
      "cell_type": "code",
      "source": [
        "from sqlalchemy.exc import SQLAlchemyError\n",
        "q=\"DELETE FROM student WHERE class='Four'\"\n",
        "try:\n",
        "  r_set=my_conn.execute(q)\n",
        "except SQLAlchemyError as e:\n",
        "  error=str(e.__dict__['orig'])\n",
        "  print(error)\n",
        "else:\n",
        "  print(\"No of records displayed : \",r_set.rowcount)"
      ],
      "metadata": {
        "colab": {
          "base_uri": "https://localhost:8080/"
        },
        "id": "YpM7wr8zwJem",
        "outputId": "301cd215-80b1-4bbd-d8c6-595e212ab995"
      },
      "execution_count": 56,
      "outputs": [
        {
          "output_type": "stream",
          "name": "stdout",
          "text": [
            "No of records displayed :  8\n"
          ]
        }
      ]
    },
    {
      "cell_type": "code",
      "source": [
        "from sqlalchemy.exc import SQLAlchemyError\n",
        "my_data=(\"Five\",)\n",
        "q=\"DELETE FROM student WHERE class=?\"\n",
        "try:\n",
        "  r_set=my_conn.execute(q,my_data)\n",
        "except SQLAlchemyError as e:\n",
        "  error=str(e.__dict__['orig'])\n",
        "  print(error)\n",
        "else:\n",
        "  print(\"No of records displayed : \",r_set.rowcount)"
      ],
      "metadata": {
        "colab": {
          "base_uri": "https://localhost:8080/"
        },
        "id": "7dxOkx7XwWbQ",
        "outputId": "93255031-02c6-4771-f64b-774ff14d2feb"
      },
      "execution_count": 57,
      "outputs": [
        {
          "output_type": "stream",
          "name": "stdout",
          "text": [
            "No of records displayed :  2\n"
          ]
        }
      ]
    },
    {
      "cell_type": "code",
      "source": [
        "from sqlalchemy.exc import SQLAlchemyError\n",
        "my_data=(\"Six\",\"Seven\")\n",
        "q=\"DELETE FROM student WHERE class=? OR class=?\"\n",
        "try:\n",
        "  r_set=my_conn.execute(q,my_data)\n",
        "except SQLAlchemyError as e:\n",
        "  error=str(e.__dict__['orig'])\n",
        "  print(error)\n",
        "else:\n",
        "  print(\"No of records displayed : \",r_set.rowcount)"
      ],
      "metadata": {
        "colab": {
          "base_uri": "https://localhost:8080/"
        },
        "id": "IGOsBGUswf3O",
        "outputId": "02e30f6d-3119-469c-f89b-59510675c013"
      },
      "execution_count": 58,
      "outputs": [
        {
          "output_type": "stream",
          "name": "stdout",
          "text": [
            "No of records displayed :  9\n"
          ]
        }
      ]
    },
    {
      "cell_type": "code",
      "source": [
        "from sqlalchemy.exc import SQLAlchemyError\n",
        "q=\"DELETE FROM student\"\n",
        "try:\n",
        "  r_set=my_conn.execute(q)\n",
        "except SQLAlchemyError as e:\n",
        "  error=str(e.__dict__['orig'])\n",
        "  print(error)\n",
        "else:\n",
        "  print(\"No of records displayed : \",r_set.rowcount)"
      ],
      "metadata": {
        "colab": {
          "base_uri": "https://localhost:8080/"
        },
        "id": "-un8uc5KwoUs",
        "outputId": "0ded4d32-fcb6-4027-e04b-6b3a52e39b44"
      },
      "execution_count": 59,
      "outputs": [
        {
          "output_type": "stream",
          "name": "stdout",
          "text": [
            "No of records displayed :  0\n"
          ]
        }
      ]
    }
  ]
}