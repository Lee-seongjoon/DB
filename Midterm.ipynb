{
  "nbformat": 4,
  "nbformat_minor": 0,
  "metadata": {
    "colab": {
      "provenance": [],
      "authorship_tag": "ABX9TyO48ia6FIltL2uqk+beArlE",
      "include_colab_link": true
    },
    "kernelspec": {
      "name": "python3",
      "display_name": "Python 3"
    },
    "language_info": {
      "name": "python"
    }
  },
  "cells": [
    {
      "cell_type": "markdown",
      "metadata": {
        "id": "view-in-github",
        "colab_type": "text"
      },
      "source": [
        "<a href=\"https://colab.research.google.com/github/Lee-seongjoon/DB/blob/main/Midterm.ipynb\" target=\"_parent\"><img src=\"https://colab.research.google.com/assets/colab-badge.svg\" alt=\"Open In Colab\"/></a>"
      ]
    },
    {
      "cell_type": "code",
      "execution_count": 21,
      "metadata": {
        "colab": {
          "base_uri": "https://localhost:8080/"
        },
        "id": "ltY7TraBHyw2",
        "outputId": "b1536e45-e93c-440c-cb4a-c9f6f4586afc"
      },
      "outputs": [
        {
          "output_type": "stream",
          "name": "stdout",
          "text": [
            "sqlite\n"
          ]
        }
      ],
      "source": [
        "from sqlalchemy import create_engine\n",
        "conn = create_engine(\"sqlite:////content/my_db.db\")\n",
        "print(conn.name)"
      ]
    },
    {
      "cell_type": "code",
      "source": [
        "conn.execute('''\n",
        "CREATE TABLE Booked\n",
        "( \n",
        "\tReference_Number   char(18)  NOT NULL ,\n",
        "\tStart_Date         char(18)  NULL ,\n",
        "\tStart_Time         char(18)  NULL ,\n",
        "\tEnd_Date           char(18)  NULL ,\n",
        "\tEnd_Time           char(18)  NULL ,\n",
        "\tStart_Odometer     char(18)  NULL ,\n",
        "\tEnd_Odometer       char(18)  NULL, \n",
        "\tPRIMARY KEY (Reference_Number)\n",
        "); ''')\n"
      ],
      "metadata": {
        "colab": {
          "base_uri": "https://localhost:8080/"
        },
        "id": "Hr1nAE1gH9zZ",
        "outputId": "94938538-2cc5-430e-b783-8acd56504bed"
      },
      "execution_count": 22,
      "outputs": [
        {
          "output_type": "execute_result",
          "data": {
            "text/plain": [
              "<sqlalchemy.engine.cursor.LegacyCursorResult at 0x7fbb0b791e50>"
            ]
          },
          "metadata": {},
          "execution_count": 22
        }
      ]
    },
    {
      "cell_type": "code",
      "source": [
        "conn.execute('''\n",
        "CREATE TABLE Booking_Service\n",
        "( \n",
        "\tVehicle_ID         char(18)  NOT NULL ,\n",
        "\tLicense_Number     char(18)  NOT NULL ,\n",
        "\tReference_Number   char(18)  NOT NULL ,\n",
        "\tName               char(18)  NOT NULL,\n",
        "\tPRIMARY KEY (Vehicle_ID, License_Number, Reference_Number, Name),\n",
        "\tFOREIGN KEY (Vehicle_ID) REFERENCES ITS_Vehicle_Assets(Vehicle_ID),\n",
        "\tFOREIGN KEY (License_Number) REFERENCES Driver(License_Number),\n",
        "\tFOREIGN KEY (Reference_Number) REFERENCES Booked(Reference_Number),\n",
        "\tFOREIGN KEY (Name) REFERENCES Official(Name) \n",
        "); ''')"
      ],
      "metadata": {
        "colab": {
          "base_uri": "https://localhost:8080/"
        },
        "id": "Zj4aLIG6ISqv",
        "outputId": "31989dbd-eb1e-4c3e-a43e-b39601926d13"
      },
      "execution_count": 23,
      "outputs": [
        {
          "output_type": "execute_result",
          "data": {
            "text/plain": [
              "<sqlalchemy.engine.cursor.LegacyCursorResult at 0x7fbb0b6b0a50>"
            ]
          },
          "metadata": {},
          "execution_count": 23
        }
      ]
    },
    {
      "cell_type": "code",
      "source": [
        "conn.execute('''\n",
        "CREATE TABLE Country\n",
        "( \n",
        "\tCountry            char(18)  NOT NULL ,\n",
        "\tLanguage           char(18)  NOT NULL,\n",
        "\tPRIMARY KEY (Country, Language)\n",
        "); ''')"
      ],
      "metadata": {
        "colab": {
          "base_uri": "https://localhost:8080/"
        },
        "id": "Kdkd-BcfIP42",
        "outputId": "716d5636-f1a1-4a8b-9dc2-7358c5662341"
      },
      "execution_count": 24,
      "outputs": [
        {
          "output_type": "execute_result",
          "data": {
            "text/plain": [
              "<sqlalchemy.engine.cursor.LegacyCursorResult at 0x7fbb0b700150>"
            ]
          },
          "metadata": {},
          "execution_count": 24
        }
      ]
    },
    {
      "cell_type": "code",
      "source": [
        "conn.execute('''\n",
        "CREATE TABLE Driver\n",
        "( \n",
        "\tLicense_Number     char(18)  NOT NULL ,\n",
        "\tName               char(18)  NULL ,\n",
        "\tClearance_Number   integer  NULL ,\n",
        "\tFATL_Level         integer  NULL ,\n",
        "\tFATL_Qualification_Date datetime  NULL ,\n",
        "\tSTLVT_Level        integer  NULL ,\n",
        "\tSTLVT_Qualification_Date datetime  NULL ,\n",
        "\tLanguage           char(18)  NULL ,\n",
        "\tCountry            char(18)  NULL,\n",
        "\tPRIMARY KEY (License_Number),\n",
        "\tFOREIGN KEY (Country) REFERENCES Country(Country),\n",
        "\tFOREIGN KEY (Language) REFERENCES Country(Language)\n",
        "); ''')"
      ],
      "metadata": {
        "colab": {
          "base_uri": "https://localhost:8080/"
        },
        "id": "XvtY0ocdIt9D",
        "outputId": "d2614a9d-7aea-4bf1-d26d-7b3ae6abb3dd"
      },
      "execution_count": 25,
      "outputs": [
        {
          "output_type": "execute_result",
          "data": {
            "text/plain": [
              "<sqlalchemy.engine.cursor.LegacyCursorResult at 0x7fbb0b6b0c10>"
            ]
          },
          "metadata": {},
          "execution_count": 25
        }
      ]
    },
    {
      "cell_type": "code",
      "source": [
        "conn.execute('''\n",
        "CREATE TABLE ITS_Vehicle_Asset\n",
        "( \n",
        "\tVehicle_ID         char(18)  NOT NULL ,\n",
        "\tRegistration_ID    char(18)  NULL ,\n",
        "\tManufacturer       char(18)  NULL ,\n",
        "\tModel              char(18)  NULL ,\n",
        "\tColor             char(18)  NULL ,\n",
        "\tOdometer           integer  NULL ,\n",
        "\tPassanger_Capacity integer  NULL ,\n",
        "\tAvailability       char(18)  NULL,\n",
        "\tPRIMARY KEY (Vehicle_ID)\n",
        "); ''')"
      ],
      "metadata": {
        "colab": {
          "base_uri": "https://localhost:8080/"
        },
        "id": "2ZTcc3eMJTyj",
        "outputId": "960d872b-0f15-42b2-c77b-fc649bf97867"
      },
      "execution_count": 26,
      "outputs": [
        {
          "output_type": "execute_result",
          "data": {
            "text/plain": [
              "<sqlalchemy.engine.cursor.LegacyCursorResult at 0x7fbb0b702b90>"
            ]
          },
          "metadata": {},
          "execution_count": 26
        }
      ]
    },
    {
      "cell_type": "code",
      "source": [
        "conn.execute('''\n",
        "CREATE TABLE Location_Name\n",
        "( \n",
        "\tPickup_Address     char(18)  NULL ,\n",
        "\tPickup_Location_Type char(18)  NULL ,\n",
        "\tDropoff_Address    char(18)  NULL ,\n",
        "\tDropoff_Location_Type char(18)  NULL \n",
        "); ''')"
      ],
      "metadata": {
        "colab": {
          "base_uri": "https://localhost:8080/"
        },
        "id": "h82lY5JwJdG2",
        "outputId": "a233fb20-2c09-42a0-b3e9-32d5484ec933"
      },
      "execution_count": 27,
      "outputs": [
        {
          "output_type": "execute_result",
          "data": {
            "text/plain": [
              "<sqlalchemy.engine.cursor.LegacyCursorResult at 0x7fbb0b69e050>"
            ]
          },
          "metadata": {},
          "execution_count": 27
        }
      ]
    },
    {
      "cell_type": "code",
      "source": [
        "conn.execute('''\n",
        "CREATE TABLE Official\n",
        "( \n",
        "\tCountry            char(18)  NULL ,\n",
        "\tCity_ID            char(18)  NULL ,\n",
        "\tName               char(18)  NOT NULL ,\n",
        "\tRole              char(18)  NULL ,\n",
        "\tPreferred_Language char(18)  NULL,\n",
        "\tPRIMARY KEY (Name),\n",
        "\tFOREIGN KEY (Country) REFERENCES Country(Country),\n",
        "\tFOREIGN KEY (Preferred_Language) REFERENCES Country(Language)\n",
        "); ''')"
      ],
      "metadata": {
        "colab": {
          "base_uri": "https://localhost:8080/"
        },
        "id": "cd1-t3ZDJlK3",
        "outputId": "d55ba6a3-adea-44cc-8290-ae985342d5fa"
      },
      "execution_count": 28,
      "outputs": [
        {
          "output_type": "execute_result",
          "data": {
            "text/plain": [
              "<sqlalchemy.engine.cursor.LegacyCursorResult at 0x7fbb0b68ad50>"
            ]
          },
          "metadata": {},
          "execution_count": 28
        }
      ]
    },
    {
      "cell_type": "code",
      "source": [
        "conn.execute('''\n",
        "CREATE TABLE Vehicle_Maintenance\n",
        "( \n",
        "\tVehicle_ID         char(18)  NOT NULL ,\n",
        "\tAction_Type        char(18)  NULL ,\n",
        "\tOdometer           integer  NULL ,\n",
        "\tfinal_Cost        integer  NULL ,\n",
        "\tDescription_of_action char(18)  NULL ,\n",
        "\tDate              datetime  NULL,\n",
        "\tPRIMARY KEY (Vehicle_ID),\n",
        "\tFOREIGN KEY (Vehicle_ID) REFERENCES ITS_Vehicle_Asset(Vehicle_ID)\n",
        "); ''')"
      ],
      "metadata": {
        "colab": {
          "base_uri": "https://localhost:8080/"
        },
        "id": "tE-7KdjIJvqd",
        "outputId": "366c4da0-c083-4cfa-dedb-06b51bfd16b2"
      },
      "execution_count": 29,
      "outputs": [
        {
          "output_type": "execute_result",
          "data": {
            "text/plain": [
              "<sqlalchemy.engine.cursor.LegacyCursorResult at 0x7fbb0b7b0690>"
            ]
          },
          "metadata": {},
          "execution_count": 29
        }
      ]
    },
    {
      "cell_type": "code",
      "source": [
        "conn.execute(\"INSERT INTO ITS_Vehicle_Asset(Vehicle_ID, Registration_ID, Manufacturer, Model, Color, Odometer, Passanger_Capacity, Availability) VALUES('V1000', '2001ABC', 'Volvo', 'XC90 SE', 'Silver', 4350, 4, 1);\")\n",
        "conn.execute(\"INSERT INTO ITS_Vehicle_Asset(Vehicle_ID, Registration_ID, Manufacturer, Model, Color, Odometer, Passanger_Capacity, Availability) VALUES('V1001', '2006AFD', 'Kia', 'K7', 'Black', 2195, 4, 1);\")\n",
        "conn.execute(\"INSERT INTO ITS_Vehicle_Asset(Vehicle_ID, Registration_ID, Manufacturer, Model, Color, Odometer, Passanger_Capacity, Availability) VALUES('V1002', '2021AHR', 'Tesla', '2020 F', 'White', 509, 4, 1);\")\n",
        "conn.execute(\"INSERT INTO ITS_Vehicle_Asset(Vehicle_ID, Registration_ID, Manufacturer, Model, Color, Odometer, Passanger_Capacity, Availability) VALUES('V1003', '2020DXF', 'Ford', 'Transit', 'Silver', 974, 2, 1);\")"
      ],
      "metadata": {
        "colab": {
          "base_uri": "https://localhost:8080/"
        },
        "id": "aO984v9jQtAw",
        "outputId": "d54ebabc-04ec-4c3c-8a6f-e59fd5c3df1d"
      },
      "execution_count": 33,
      "outputs": [
        {
          "output_type": "execute_result",
          "data": {
            "text/plain": [
              "<sqlalchemy.engine.cursor.LegacyCursorResult at 0x7fbb0b700f10>"
            ]
          },
          "metadata": {},
          "execution_count": 33
        }
      ]
    },
    {
      "cell_type": "code",
      "source": [
        "conn.execute(\"INSERT INTO Driver(License_Number, Name, Clearance_Number, FATL_Level, FATL_Qualificatiion_Date, STLVT_Level, STLVT_Qualification_Date, Language, Country) VALUES('ABEJJFPEKSNOEJDIKEND', 'JOHN DOE', 1, 2, 'NULL', 2, 'NULL', 'KR', 'KOREA');\")\n",
        "conn.execute(\"INSERT INTO Driver(License_Number, Name, Clearance_Number, FATL_Level, FATL_Qualificatiion_Date, STLVT_Level, STLVT_Qualification_Date, Language, Country) VALUES('ABEJJFPEKSNOEJDIEEND', 'ADAM SMITH', 2, 3, 'NULL', 4, 'NULL', 'EN', 'USA');\")\n"
      ],
      "metadata": {
        "id": "oMbO94c7StXF"
      },
      "execution_count": null,
      "outputs": []
    }
  ]
}